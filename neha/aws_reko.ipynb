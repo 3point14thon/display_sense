{
 "cells": [
  {
   "cell_type": "markdown",
   "metadata": {
    "ExecuteTime": {
     "end_time": "2018-12-01T20:04:18.049280Z",
     "start_time": "2018-12-01T20:04:17.873344Z"
    }
   },
   "source": [
    "# Generating demographic summary statistics"
   ]
  },
  {
   "cell_type": "code",
   "execution_count": 27,
   "metadata": {
    "ExecuteTime": {
     "end_time": "2018-12-02T03:52:19.959027Z",
     "start_time": "2018-12-02T03:52:19.687974Z"
    }
   },
   "outputs": [],
   "source": [
    "from video_analytics import *\n",
    "from pymongo import MongoClient\n",
    "from collections import defaultdict\n",
    "import pandas as pd\n",
    "%matplotlib inline\n",
    "import matplotlib.pyplot as plt"
   ]
  },
  {
   "cell_type": "code",
   "execution_count": 20,
   "metadata": {
    "ExecuteTime": {
     "end_time": "2018-12-02T03:29:07.578938Z",
     "start_time": "2018-12-02T03:29:07.468330Z"
    }
   },
   "outputs": [],
   "source": [
    "mc = MongoClient()\n",
    "if 'store_name' in mc.database_names():\n",
    "    mc.drop_database('store_name')\n",
    "store_db = mc['store_name']\n",
    "store_collections = store_db['storefront']"
   ]
  },
  {
   "cell_type": "code",
   "execution_count": 21,
   "metadata": {
    "ExecuteTime": {
     "end_time": "2018-12-02T03:33:53.327073Z",
     "start_time": "2018-12-02T03:29:30.422164Z"
    }
   },
   "outputs": [
    {
     "name": "stdout",
     "output_type": "stream",
     "text": [
      "Start Job Id: 1544d7c9417f21925f51f27324c04b0c563167ab7a8476ad404a33c316405c07\n",
      "....................\n",
      "....................\n",
      "....................\n",
      "....................\n",
      "....................\n",
      "....................\n",
      "....................\n",
      "....................\n",
      "....................\n",
      "....................\n",
      "....................\n",
      "....................\n",
      "....................\n",
      "....................\n",
      "....................\n",
      "....................\n",
      "....................\n",
      "....................\n",
      "....................\n",
      "....................\n",
      "....................\n",
      "....................\n",
      "....................\n",
      "....................\n",
      "....................\n",
      "....................\n",
      "....................\n",
      "....................\n",
      "....................\n",
      "....................\n",
      "....................\n",
      "....................\n",
      "....................\n",
      "....................\n",
      "....................\n",
      "....................\n",
      "....................\n",
      "....................\n",
      "....................\n",
      "....................\n",
      "....................\n",
      "....................\n",
      "....................\n",
      "....................\n",
      "....................\n",
      "....................\n",
      "....................\n",
      "....................\n",
      "....................\n",
      "....................\n",
      "....................\n",
      "....................\n",
      "....................\n",
      "....................\n",
      "....................\n",
      "....................\n",
      "....................\n",
      "....................\n",
      "....................\n",
      "....................\n",
      "....................\n",
      "....................\n",
      "....................\n",
      "....................\n",
      "...1544d7c9417f21925f51f27324c04b0c563167ab7a8476ad404a33c316405c07\n",
      "SUCCEEDED\n",
      "Matching Job Found:1544d7c9417f21925f51f27324c04b0c563167ab7a8476ad404a33c316405c07\n",
      "done\n",
      "Start Job Id: a554ddb739a53ded3219e90710a9827f023bcf2ad2efdfc433db6d78b0e596cf\n",
      "....................\n",
      "....................\n",
      "....................\n",
      "....................\n",
      "....................\n",
      "....................\n",
      "....................\n",
      "....................\n",
      "....................\n",
      "....................\n",
      "....................\n",
      "....................\n",
      "....................\n",
      "....................\n",
      "....................\n",
      "....................\n",
      "....................\n",
      "....................\n",
      "....................\n",
      "....................\n",
      "....................\n",
      "....................\n",
      "....................\n",
      "....................\n",
      "....................\n",
      "....................\n",
      "....................\n",
      "....................\n",
      "....................\n",
      "....................\n",
      "....................\n",
      "....................\n",
      "....................\n",
      "....................\n",
      "....................\n",
      "....................\n",
      "....................\n",
      "....................\n",
      "....................\n",
      "....................\n",
      "....................\n",
      "....................\n",
      "....................\n",
      "....................\n",
      "....................\n",
      "....................\n",
      "....................\n",
      "....................\n",
      "....................\n",
      "....................\n",
      "....................\n",
      "....................\n",
      "....................\n",
      "....................\n",
      "....................\n",
      "....................\n",
      "....................\n",
      "....................\n",
      "....................\n",
      "....................\n",
      "....................\n",
      "....................\n",
      ".........a554ddb739a53ded3219e90710a9827f023bcf2ad2efdfc433db6d78b0e596cf\n",
      "SUCCEEDED\n",
      "Matching Job Found:a554ddb739a53ded3219e90710a9827f023bcf2ad2efdfc433db6d78b0e596cf\n",
      "done\n"
     ]
    }
   ],
   "source": [
    "# Each result has a timestamp in it, the timestamps are not unique, repeat for people\n",
    "results = get_results()\n",
    "for result in results:\n",
    "    store_collections.insert_one(result)"
   ]
  },
  {
   "cell_type": "code",
   "execution_count": 32,
   "metadata": {
    "ExecuteTime": {
     "end_time": "2018-12-02T04:04:47.068993Z",
     "start_time": "2018-12-02T04:04:47.035072Z"
    },
    "scrolled": true
   },
   "outputs": [
    {
     "data": {
      "text/plain": [
       "{'_id': ObjectId('5c0359bca73b06763844fe53'),\n",
       " 'Timestamp': 3399,\n",
       " 'Person': {'Index': 0,\n",
       "  'Face': {'BoundingBox': {'Width': 0.04350563883781433,\n",
       "    'Height': 0.10501418262720108,\n",
       "    'Left': 0.07540211826562881,\n",
       "    'Top': 0.25185006856918335},\n",
       "   'AgeRange': {'Low': 48, 'High': 68},\n",
       "   'Smile': {'Value': True, 'Confidence': 97.1988754272461},\n",
       "   'Eyeglasses': {'Value': False, 'Confidence': 100.0},\n",
       "   'Sunglasses': {'Value': False, 'Confidence': 100.0},\n",
       "   'Gender': {'Value': 'Male', 'Confidence': 93.65911865234375},\n",
       "   'Beard': {'Value': False, 'Confidence': 91.30879974365234},\n",
       "   'Mustache': {'Value': False, 'Confidence': 99.90252685546875},\n",
       "   'EyesOpen': {'Value': False, 'Confidence': 95.94684600830078},\n",
       "   'MouthOpen': {'Value': False, 'Confidence': 57.76811981201172},\n",
       "   'Emotions': [{'Type': 'HAPPY', 'Confidence': 46.93202209472656},\n",
       "    {'Type': 'CALM', 'Confidence': 7.430604934692383},\n",
       "    {'Type': 'DISGUSTED', 'Confidence': 16.845468521118164},\n",
       "    {'Type': 'CONFUSED', 'Confidence': 0.0},\n",
       "    {'Type': 'SURPRISED', 'Confidence': 0.22858555614948273},\n",
       "    {'Type': 'SAD', 'Confidence': 25.947744369506836},\n",
       "    {'Type': 'ANGRY', 'Confidence': 2.174638271331787}],\n",
       "   'Landmarks': [{'Type': 'eyeLeft',\n",
       "     'X': 0.10845163464546204,\n",
       "     'Y': 0.30005595088005066},\n",
       "    {'Type': 'eyeRight', 'X': 0.12498743087053299, 'Y': 0.2978120446205139},\n",
       "    {'Type': 'mouthLeft', 'X': 0.10708526521921158, 'Y': 0.3343483507633209},\n",
       "    {'Type': 'mouthRight', 'X': 0.12077002227306366, 'Y': 0.3319099247455597},\n",
       "    {'Type': 'nose', 'X': 0.12392327189445496, 'Y': 0.3190065920352936},\n",
       "    {'Type': 'leftEyeBrowLeft',\n",
       "     'X': 0.09902026504278183,\n",
       "     'Y': 0.29274243116378784},\n",
       "    {'Type': 'leftEyeBrowRight',\n",
       "     'X': 0.11589927971363068,\n",
       "     'Y': 0.290081262588501},\n",
       "    {'Type': 'leftEyeBrowUp',\n",
       "     'X': 0.10875139385461807,\n",
       "     'Y': 0.28878289461135864},\n",
       "    {'Type': 'rightEyeBrowLeft',\n",
       "     'X': 0.12565919756889343,\n",
       "     'Y': 0.28934764862060547},\n",
       "    {'Type': 'rightEyeBrowRight',\n",
       "     'X': 0.1289360672235489,\n",
       "     'Y': 0.2889672815799713},\n",
       "    {'Type': 'rightEyeBrowUp',\n",
       "     'X': 0.12902504205703735,\n",
       "     'Y': 0.28673896193504333},\n",
       "    {'Type': 'leftEyeLeft', 'X': 0.1036371961236, 'Y': 0.30027535557746887},\n",
       "    {'Type': 'leftEyeRight',\n",
       "     'X': 0.11099517345428467,\n",
       "     'Y': 0.3003078103065491},\n",
       "    {'Type': 'leftEyeUp', 'X': 0.10836093872785568, 'Y': 0.2987769544124603},\n",
       "    {'Type': 'leftEyeDown',\n",
       "     'X': 0.10797347873449326,\n",
       "     'Y': 0.30185940861701965},\n",
       "    {'Type': 'rightEyeLeft',\n",
       "     'X': 0.12091249972581863,\n",
       "     'Y': 0.2993438243865967},\n",
       "    {'Type': 'rightEyeRight',\n",
       "     'X': 0.12589986622333527,\n",
       "     'Y': 0.29794421792030334},\n",
       "    {'Type': 'rightEyeUp', 'X': 0.12487312406301498, 'Y': 0.2971023619174957},\n",
       "    {'Type': 'rightEyeDown',\n",
       "     'X': 0.12426123023033142,\n",
       "     'Y': 0.3001062870025635},\n",
       "    {'Type': 'noseLeft', 'X': 0.11544646322727203, 'Y': 0.3222445249557495},\n",
       "    {'Type': 'noseRight', 'X': 0.1209690049290657, 'Y': 0.3215954601764679},\n",
       "    {'Type': 'mouthUp', 'X': 0.11855939030647278, 'Y': 0.3300919532775879},\n",
       "    {'Type': 'mouthDown', 'X': 0.11648084968328476, 'Y': 0.339925616979599},\n",
       "    {'Type': 'leftPupil', 'X': 0.10845163464546204, 'Y': 0.30005595088005066},\n",
       "    {'Type': 'rightPupil', 'X': 0.12498743087053299, 'Y': 0.2978120446205139},\n",
       "    {'Type': 'upperJawlineLeft',\n",
       "     'X': 0.0805763527750969,\n",
       "     'Y': 0.2991359829902649},\n",
       "    {'Type': 'midJawlineLeft',\n",
       "     'X': 0.08497321605682373,\n",
       "     'Y': 0.33522719144821167},\n",
       "    {'Type': 'chinBottom', 'X': 0.11140906810760498, 'Y': 0.3562222719192505},\n",
       "    {'Type': 'midJawlineRight',\n",
       "     'X': 0.1148938536643982,\n",
       "     'Y': 0.33200976252555847},\n",
       "    {'Type': 'upperJawlineRight',\n",
       "     'X': 0.11783047765493393,\n",
       "     'Y': 0.2951511740684509}],\n",
       "   'Pose': {'Roll': -7.97900915145874,\n",
       "    'Yaw': 23.348264694213867,\n",
       "    'Pitch': -42.97429275512695},\n",
       "   'Quality': {'Brightness': 77.48800659179688,\n",
       "    'Sharpness': 9.912903785705566},\n",
       "   'Confidence': 99.9917984008789}}}"
      ]
     },
     "execution_count": 32,
     "metadata": {},
     "output_type": "execute_result"
    }
   ],
   "source": [
    "store_collections.find_one()"
   ]
  },
  {
   "cell_type": "markdown",
   "metadata": {},
   "source": [
    "# Person and face traffic v/s timestamp"
   ]
  },
  {
   "cell_type": "code",
   "execution_count": 55,
   "metadata": {
    "ExecuteTime": {
     "end_time": "2018-12-02T05:07:37.001229Z",
     "start_time": "2018-12-02T05:07:36.969773Z"
    }
   },
   "outputs": [],
   "source": [
    "timestamp_face_count_dict = defaultdict(int)\n",
    "timestamp_person_count_dict = defaultdict(int)\n",
    "timestamp_male_count_dict = defaultdict(int)\n",
    "timestamp_female_count_dict = defaultdict(int)\n",
    "timestamp_youth_count_dict = defaultdict(int) # [0 - 18) years\n",
    "timestamp_adult_count_dict = defaultdict(int) # [18 - 60) years\n",
    "timestamp_seniors_count_dict = defaultdict(int) # [>60] years\n",
    "\n",
    "for result in results:\n",
    "    timestamp = result['Timestamp']\n",
    "    \n",
    "    timestamp_person_count_dict[timestamp] += 1\n",
    "    \n",
    "    if 'Face' in result['Person']:\n",
    "        timestamp_face_count_dict[timestamp] += 1\n",
    "        \n",
    "        # Male count\n",
    "        if result['Person']['Face']['Gender']['Value'] == 'Male' and result['Person']['Face']['Gender']['Confidence'] >= 75:\n",
    "            timestamp_male_count_dict[timestamp] += 1\n",
    "        \n",
    "        # Female count\n",
    "        if result['Person']['Face']['Gender']['Value'] == 'Female' and result['Person']['Face']['Gender']['Confidence'] >= 75:\n",
    "            timestamp_female_count_dict[timestamp] += 1 \n",
    "            \n",
    "        \n",
    "        avg_age = (result['Person']['Face']['AgeRange']['Low'] + result['Person']['Face']['AgeRange']['High']) / 2\n",
    "        \n",
    "        # Youth count\n",
    "        if avg_age >= 0 and avg_age < 18:\n",
    "            timestamp_youth_count_dict[timestamp] += 1 \n",
    "        # Adult count\n",
    "        elif avg_age >= 18 and avg_age < 60:\n",
    "            timestamp_adult_count_dict[timestamp] += 1\n",
    "        # Seniors count\n",
    "        else:\n",
    "            timestamp_seniors_count_dict[timestamp] += 1 \n",
    "            \n",
    "    else:\n",
    "        timestamp_male_count_dict[timestamp],timestamp_female_count_dict[timestamp], timestamp_youth_count_dict[timestamp], timestamp_adult_count_dict[timestamp], timestamp_seniors_count_dict[timestamp] = 0, 0, 0, 0, 0\n",
    "         "
   ]
  },
  {
   "cell_type": "code",
   "execution_count": 36,
   "metadata": {
    "ExecuteTime": {
     "end_time": "2018-12-02T04:29:17.745812Z",
     "start_time": "2018-12-02T04:29:17.594735Z"
    }
   },
   "outputs": [
    {
     "data": {
      "text/plain": [
       "[<matplotlib.lines.Line2D at 0x11d62d160>,\n",
       " <matplotlib.lines.Line2D at 0x11d62d320>]"
      ]
     },
     "execution_count": 36,
     "metadata": {},
     "output_type": "execute_result"
    },
    {
     "data": {
      "image/png": "[encoded data removed]",
      "text/plain": [
       "<Figure size 432x288 with 1 Axes>"
      ]
     },
     "metadata": {},
     "output_type": "display_data"
    }
   ],
   "source": [
    "# Person and face traffic\n",
    "plt.plot(list(map(int, timestamp_person_count_dict.keys())), timestamp_person_count_dict.values(),list(map(int, timestamp_face_count_dict.keys())), timestamp_face_count_dict.values())"
   ]
  },
  {
   "cell_type": "markdown",
   "metadata": {},
   "source": [
    "# Gender Composition"
   ]
  },
  {
   "cell_type": "code",
   "execution_count": 42,
   "metadata": {
    "ExecuteTime": {
     "end_time": "2018-12-02T04:36:31.010940Z",
     "start_time": "2018-12-02T04:36:30.846864Z"
    }
   },
   "outputs": [
    {
     "data": {
      "text/plain": [
       "[<matplotlib.lines.Line2D at 0x11d860240>,\n",
       " <matplotlib.lines.Line2D at 0x11d860400>]"
      ]
     },
     "execution_count": 42,
     "metadata": {},
     "output_type": "execute_result"
    },
    {
     "data": {
      "image/png": "[encoded data removed]",
      "text/plain": [
       "<Figure size 432x288 with 1 Axes>"
      ]
     },
     "metadata": {},
     "output_type": "display_data"
    }
   ],
   "source": [
    "plt.plot(list(map(int, timestamp_male_count_dict.keys())), timestamp_male_count_dict.values(),\n",
    "         list(map(int, timestamp_female_count_dict.keys())), timestamp_female_count_dict.values())"
   ]
  },
  {
   "cell_type": "markdown",
   "metadata": {},
   "source": [
    "# Age Composition"
   ]
  },
  {
   "cell_type": "code",
   "execution_count": 54,
   "metadata": {
    "ExecuteTime": {
     "end_time": "2018-12-02T05:06:15.619765Z",
     "start_time": "2018-12-02T05:06:15.443184Z"
    }
   },
   "outputs": [
    {
     "data": {
      "text/plain": [
       "<matplotlib.legend.Legend at 0x11ddf0ba8>"
      ]
     },
     "execution_count": 54,
     "metadata": {},
     "output_type": "execute_result"
    },
    {
     "data": {
      "image/png": "[encoded data removed]",
      "text/plain": [
       "<Figure size 432x288 with 1 Axes>"
      ]
     },
     "metadata": {},
     "output_type": "display_data"
    }
   ],
   "source": [
    "plt.plot(list(map(int, timestamp_youth_count_dict.keys())), timestamp_youth_count_dict.values(),\n",
    "         list(map(int, timestamp_adult_count_dict.keys())), timestamp_adult_count_dict.values(),\n",
    "        list(map(int, timestamp_seniors_count_dict.keys())), timestamp_seniors_count_dict.values())\n",
    "plt.legend(['youth', 'adult', 'seniors'])"
   ]
  },
  {
   "cell_type": "markdown",
   "metadata": {},
   "source": [
    "# Mood Composition"
   ]
  },
  {
   "cell_type": "code",
   "execution_count": 45,
   "metadata": {
    "ExecuteTime": {
     "end_time": "2018-12-02T04:38:46.319047Z",
     "start_time": "2018-12-02T04:38:46.283918Z"
    }
   },
   "outputs": [
    {
     "data": {
      "text/plain": [
       "defaultdict(int,\n",
       "            {3399: 1,\n",
       "             3532: 0,\n",
       "             3665: 0,\n",
       "             3732: 0,\n",
       "             3865: 0,\n",
       "             3932: 0,\n",
       "             4065: 0,\n",
       "             4132: 0,\n",
       "             4265: 0,\n",
       "             4332: 0,\n",
       "             4465: 0,\n",
       "             4532: 0,\n",
       "             4665: 0,\n",
       "             4732: 0,\n",
       "             4865: 0,\n",
       "             4932: 0,\n",
       "             4998: 1,\n",
       "             5065: 0,\n",
       "             5132: 0,\n",
       "             5198: 0,\n",
       "             5265: 0,\n",
       "             5332: 0,\n",
       "             5398: 0,\n",
       "             5465: 0,\n",
       "             5532: 0,\n",
       "             5598: 0,\n",
       "             5665: 0,\n",
       "             5732: 0,\n",
       "             8464: 0,\n",
       "             8531: 0,\n",
       "             8664: 0,\n",
       "             8731: 0,\n",
       "             8864: 0,\n",
       "             8931: 0,\n",
       "             9064: 0,\n",
       "             9131: 0,\n",
       "             9264: 0,\n",
       "             9331: 0,\n",
       "             9464: 0,\n",
       "             9531: 0,\n",
       "             9664: 0,\n",
       "             9731: 0,\n",
       "             9864: 0,\n",
       "             9931: 0,\n",
       "             10064: 0,\n",
       "             10131: 0,\n",
       "             10264: 0,\n",
       "             10331: 0,\n",
       "             10464: 0,\n",
       "             10530: 0,\n",
       "             10664: 0,\n",
       "             10730: 0,\n",
       "             10864: 0,\n",
       "             10930: 0,\n",
       "             10997: 1,\n",
       "             11064: 0,\n",
       "             11130: 0,\n",
       "             11197: 1,\n",
       "             11264: 0,\n",
       "             11330: 0,\n",
       "             11397: 1,\n",
       "             11464: 0,\n",
       "             11530: 0,\n",
       "             11597: 1,\n",
       "             11664: 0,\n",
       "             11730: 0,\n",
       "             11797: 2,\n",
       "             11864: 0,\n",
       "             11930: 0,\n",
       "             11997: 0,\n",
       "             12063: 0,\n",
       "             12130: 0,\n",
       "             12197: 0,\n",
       "             12263: 0,\n",
       "             12330: 0,\n",
       "             12397: 0,\n",
       "             12463: 0,\n",
       "             12530: 0,\n",
       "             12597: 0,\n",
       "             12663: 0,\n",
       "             12730: 0,\n",
       "             12797: 0,\n",
       "             12863: 0,\n",
       "             12930: 0,\n",
       "             12997: 0,\n",
       "             13063: 0,\n",
       "             13130: 0,\n",
       "             13197: 0,\n",
       "             13263: 0,\n",
       "             13330: 0,\n",
       "             13397: 0,\n",
       "             13463: 0,\n",
       "             13530: 0,\n",
       "             13596: 0,\n",
       "             13663: 0,\n",
       "             13730: 0,\n",
       "             13796: 0,\n",
       "             13863: 0,\n",
       "             13930: 0,\n",
       "             13996: 0,\n",
       "             14063: 0,\n",
       "             14130: 0,\n",
       "             14196: 0,\n",
       "             14263: 0,\n",
       "             14330: 0,\n",
       "             14396: 0,\n",
       "             14463: 0,\n",
       "             14530: 0,\n",
       "             14596: 0,\n",
       "             14663: 0,\n",
       "             14730: 0,\n",
       "             14796: 0,\n",
       "             14863: 0,\n",
       "             14929: 0,\n",
       "             14996: 0,\n",
       "             15063: 0,\n",
       "             15129: 0,\n",
       "             15196: 0,\n",
       "             15263: 0,\n",
       "             15329: 0,\n",
       "             15396: 1,\n",
       "             15463: 0,\n",
       "             15529: 0,\n",
       "             15663: 0,\n",
       "             15729: 0,\n",
       "             15863: 0,\n",
       "             15929: 0,\n",
       "             16063: 0,\n",
       "             16129: 0,\n",
       "             16263: 0,\n",
       "             16329: 0,\n",
       "             16396: 0,\n",
       "             16462: 0,\n",
       "             16529: 0,\n",
       "             16596: 0,\n",
       "             16662: 0,\n",
       "             16729: 0,\n",
       "             16796: 0,\n",
       "             16862: 0,\n",
       "             16929: 0,\n",
       "             16996: 0,\n",
       "             17062: 0,\n",
       "             17129: 0,\n",
       "             17196: 0,\n",
       "             17262: 0,\n",
       "             17329: 0,\n",
       "             17396: 0,\n",
       "             17462: 0,\n",
       "             17529: 0,\n",
       "             17596: 0,\n",
       "             17662: 0,\n",
       "             17729: 0,\n",
       "             17862: 0,\n",
       "             17929: 0,\n",
       "             17995: 0,\n",
       "             18062: 0,\n",
       "             18129: 0,\n",
       "             18195: 0,\n",
       "             18262: 0,\n",
       "             18329: 0,\n",
       "             18395: 0,\n",
       "             18462: 0,\n",
       "             18529: 0,\n",
       "             18595: 0,\n",
       "             18662: 0,\n",
       "             18729: 0,\n",
       "             18795: 0,\n",
       "             18862: 0,\n",
       "             18929: 0,\n",
       "             18995: 0,\n",
       "             19062: 0,\n",
       "             19129: 0,\n",
       "             19195: 0,\n",
       "             19262: 0,\n",
       "             19329: 0,\n",
       "             19995: 1,\n",
       "             20062: 0,\n",
       "             20128: 0,\n",
       "             20262: 0,\n",
       "             20328: 0,\n",
       "             20395: 1,\n",
       "             20462: 0,\n",
       "             20528: 0,\n",
       "             20595: 1,\n",
       "             20662: 0,\n",
       "             20728: 0,\n",
       "             20795: 1,\n",
       "             20862: 0,\n",
       "             20928: 0,\n",
       "             20995: 1,\n",
       "             21061: 0,\n",
       "             21128: 0,\n",
       "             21195: 1,\n",
       "             21261: 0,\n",
       "             21328: 0,\n",
       "             21395: 0,\n",
       "             21461: 0,\n",
       "             21528: 0,\n",
       "             21595: 0,\n",
       "             21661: 0,\n",
       "             21728: 0,\n",
       "             21795: 0,\n",
       "             21861: 0,\n",
       "             21928: 0,\n",
       "             21995: 0,\n",
       "             22061: 0})"
      ]
     },
     "execution_count": 45,
     "metadata": {},
     "output_type": "execute_result"
    }
   ],
   "source": [
    "timestamp_male_count_dict"
   ]
  },
  {
   "cell_type": "code",
   "execution_count": null,
   "metadata": {},
   "outputs": [],
   "source": []
  }
 ],
 "metadata": {
  "kernelspec": {
   "display_name": "Python 3",
   "language": "python",
   "name": "python3"
  },
  "language_info": {
   "codemirror_mode": {
    "name": "ipython",
    "version": 3
   },
   "file_extension": ".py",
   "mimetype": "text/x-python",
   "name": "python",
   "nbconvert_exporter": "python",
   "pygments_lexer": "ipython3",
   "version": "3.6.5"
  }
 },
 "nbformat": 4,
 "nbformat_minor": 2
}
