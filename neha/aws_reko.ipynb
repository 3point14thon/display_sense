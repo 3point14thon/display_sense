{
 "cells": [
  {
   "cell_type": "code",
   "execution_count": 1,
   "metadata": {
    "ExecuteTime": {
     "end_time": "2018-11-30T23:49:10.725618Z",
     "start_time": "2018-11-30T23:49:10.411067Z"
    }
   },
   "outputs": [],
   "source": [
    "import boto3\n",
    "import image_helpers"
   ]
  },
  {
   "cell_type": "code",
   "execution_count": 3,
   "metadata": {
    "ExecuteTime": {
     "end_time": "2018-11-30T23:53:32.643400Z",
     "start_time": "2018-11-30T23:53:32.560795Z"
    }
   },
   "outputs": [
    {
     "name": "stdout",
     "output_type": "stream",
     "text": [
      "s3.bucketsCollection(s3.ServiceResource(), s3.Bucket)\n"
     ]
    }
   ],
   "source": [
    "s3 = boto3.resource('s3')\n",
    "print(s3.buckets.all())"
   ]
  },
  {
   "cell_type": "code",
   "execution_count": 4,
   "metadata": {
    "ExecuteTime": {
     "end_time": "2018-11-30T23:53:33.985565Z",
     "start_time": "2018-11-30T23:53:33.360274Z"
    }
   },
   "outputs": [
    {
     "name": "stdout",
     "output_type": "stream",
     "text": [
      "s3.Bucket(name='aws-logs-302497794745-us-west-2')\n",
      "s3.Bucket(name='neha-bucket-made')\n",
      "s3.Bucket(name='professor-profiler')\n",
      "s3.Bucket(name='storefront-analytics')\n"
     ]
    }
   ],
   "source": [
    "for bucket in s3.buckets.all():\n",
    "    print(bucket)"
   ]
  },
  {
   "cell_type": "code",
   "execution_count": 2,
   "metadata": {
    "ExecuteTime": {
     "end_time": "2018-11-30T23:50:00.059309Z",
     "start_time": "2018-11-30T23:49:59.952012Z"
    }
   },
   "outputs": [],
   "source": [
    "client = boto3.client('rekognition')"
   ]
  },
  {
   "cell_type": "code",
   "execution_count": null,
   "metadata": {},
   "outputs": [],
   "source": [
    "client.detect_labels(Image={'Bytes':})"
   ]
  },
  {
   "cell_type": "code",
   "execution_count": 18,
   "metadata": {
    "ExecuteTime": {
     "end_time": "2018-12-01T00:15:41.406907Z",
     "start_time": "2018-12-01T00:15:41.383564Z"
    }
   },
   "outputs": [],
   "source": [
    "BUCKET = \"storefront-analytics\"\n",
    "KEY = \"IMG_3950.png\"\n",
    "FEATURES_BLACKLIST = (\"Landmarks\", \"Emotions\", \"Pose\", \"Quality\", \"BoundingBox\", \"Confidence\")\n",
    "\n",
    "def detect_faces(bucket, key, attributes=['ALL'], region=\"us-west-2\"):\n",
    "    rekognition = boto3.client(\"rekognition\", region)\n",
    "    response = rekognition.detect_faces(\n",
    "        Image={\n",
    "                \"S3Object\": {\n",
    "                    \"Bucket\": bucket,\n",
    "                    \"Name\": key,}\n",
    "        },\n",
    "        Attributes=attributes,\n",
    "    )\n",
    "    return response['FaceDetails']"
   ]
  },
  {
   "cell_type": "code",
   "execution_count": 19,
   "metadata": {
    "ExecuteTime": {
     "end_time": "2018-12-01T00:15:50.679022Z",
     "start_time": "2018-12-01T00:15:46.654665Z"
    },
    "scrolled": true
   },
   "outputs": [
    {
     "name": "stdout",
     "output_type": "stream",
     "text": [
      "2\n"
     ]
    }
   ],
   "source": [
    "print(len(detect_faces(BUCKET, KEY)))"
   ]
  },
  {
   "cell_type": "code",
   "execution_count": 20,
   "metadata": {
    "ExecuteTime": {
     "end_time": "2018-12-01T00:16:09.794331Z",
     "start_time": "2018-12-01T00:16:05.871896Z"
    },
    "scrolled": true
   },
   "outputs": [
    {
     "name": "stdout",
     "output_type": "stream",
     "text": [
      "{'BoundingBox': {'Width': 0.137204110622406, 'Height': 0.25063422322273254, 'Left': 0.7058336138725281, 'Top': 0.25689497590065}, 'AgeRange': {'Low': 26, 'High': 43}, 'Smile': {'Value': False, 'Confidence': 98.73164367675781}, 'Eyeglasses': {'Value': True, 'Confidence': 97.68038177490234}, 'Sunglasses': {'Value': False, 'Confidence': 98.07449340820312}, 'Gender': {'Value': 'Male', 'Confidence': 97.61447143554688}, 'Beard': {'Value': False, 'Confidence': 58.997249603271484}, 'Mustache': {'Value': False, 'Confidence': 83.23825073242188}, 'EyesOpen': {'Value': True, 'Confidence': 99.98748016357422}, 'MouthOpen': {'Value': True, 'Confidence': 83.89959716796875}, 'Emotions': [{'Type': 'SAD', 'Confidence': 7.387284755706787}, {'Type': 'CONFUSED', 'Confidence': 0.0}, {'Type': 'HAPPY', 'Confidence': 0.8662644028663635}, {'Type': 'CALM', 'Confidence': 44.98249053955078}, {'Type': 'SURPRISED', 'Confidence': 21.919429779052734}, {'Type': 'ANGRY', 'Confidence': 10.665553092956543}, {'Type': 'DISGUSTED', 'Confidence': 5.317049503326416}], 'Landmarks': [{'Type': 'eyeLeft', 'X': 0.739894449710846, 'Y': 0.347282737493515}, {'Type': 'eyeRight', 'X': 0.7907872796058655, 'Y': 0.3616189658641815}, {'Type': 'mouthLeft', 'X': 0.7283639311790466, 'Y': 0.4403541088104248}, {'Type': 'mouthRight', 'X': 0.7694929838180542, 'Y': 0.45236697793006897}, {'Type': 'nose', 'X': 0.7402888536453247, 'Y': 0.3945922553539276}, {'Type': 'leftEyeBrowLeft', 'X': 0.7278173565864563, 'Y': 0.3239423334598541}, {'Type': 'leftEyeBrowRight', 'X': 0.7482059001922607, 'Y': 0.3205949664115906}, {'Type': 'leftEyeBrowUp', 'X': 0.7366891503334045, 'Y': 0.3142090439796448}, {'Type': 'rightEyeBrowLeft', 'X': 0.778562605381012, 'Y': 0.3285675048828125}, {'Type': 'rightEyeBrowRight', 'X': 0.8207603693008423, 'Y': 0.3495614230632782}, {'Type': 'rightEyeBrowUp', 'X': 0.7981259822845459, 'Y': 0.329838365316391}, {'Type': 'leftEyeLeft', 'X': 0.732900857925415, 'Y': 0.3452507555484772}, {'Type': 'leftEyeRight', 'X': 0.7496232986450195, 'Y': 0.3511221408843994}, {'Type': 'leftEyeUp', 'X': 0.7393028736114502, 'Y': 0.34252315759658813}, {'Type': 'leftEyeDown', 'X': 0.738813042640686, 'Y': 0.3508492708206177}, {'Type': 'rightEyeLeft', 'X': 0.7805932760238647, 'Y': 0.35984575748443604}, {'Type': 'rightEyeRight', 'X': 0.8024380803108215, 'Y': 0.36530834436416626}, {'Type': 'rightEyeUp', 'X': 0.7908856272697449, 'Y': 0.35734987258911133}, {'Type': 'rightEyeDown', 'X': 0.7896444797515869, 'Y': 0.36561861634254456}, {'Type': 'noseLeft', 'X': 0.7380894422531128, 'Y': 0.4076409935951233}, {'Type': 'noseRight', 'X': 0.7589952945709229, 'Y': 0.4113651514053345}, {'Type': 'mouthUp', 'X': 0.7433987855911255, 'Y': 0.4287586212158203}, {'Type': 'mouthDown', 'X': 0.7414450645446777, 'Y': 0.45609861612319946}, {'Type': 'leftPupil', 'X': 0.739894449710846, 'Y': 0.347282737493515}, {'Type': 'rightPupil', 'X': 0.7907872796058655, 'Y': 0.3616189658641815}, {'Type': 'upperJawlineLeft', 'X': 0.7375304698944092, 'Y': 0.35365545749664307}, {'Type': 'midJawlineLeft', 'X': 0.7279172539710999, 'Y': 0.44852471351623535}, {'Type': 'chinBottom', 'X': 0.7420480251312256, 'Y': 0.5040506720542908}, {'Type': 'midJawlineRight', 'X': 0.8222976326942444, 'Y': 0.4757539629936218}, {'Type': 'upperJawlineRight', 'X': 0.8549039363861084, 'Y': 0.3872922360897064}], 'Pose': {'Roll': 9.872888565063477, 'Yaw': -39.00883483886719, 'Pitch': -4.618072032928467}, 'Quality': {'Brightness': 81.63111877441406, 'Sharpness': 89.85481262207031}, 'Confidence': 99.99998474121094}\n",
      "{'BoundingBox': {'Width': 0.12782537937164307, 'Height': 0.24203552305698395, 'Left': 0.23848530650138855, 'Top': 0.27608513832092285}, 'AgeRange': {'Low': 26, 'High': 43}, 'Smile': {'Value': True, 'Confidence': 99.99952697753906}, 'Eyeglasses': {'Value': False, 'Confidence': 99.99938201904297}, 'Sunglasses': {'Value': False, 'Confidence': 99.99999237060547}, 'Gender': {'Value': 'Male', 'Confidence': 99.83928680419922}, 'Beard': {'Value': True, 'Confidence': 97.37147521972656}, 'Mustache': {'Value': False, 'Confidence': 94.15031433105469}, 'EyesOpen': {'Value': True, 'Confidence': 87.88838958740234}, 'MouthOpen': {'Value': True, 'Confidence': 99.99082946777344}, 'Emotions': [{'Type': 'CALM', 'Confidence': 0.006536305416375399}, {'Type': 'HAPPY', 'Confidence': 99.82982635498047}, {'Type': 'DISGUSTED', 'Confidence': 0.015410037711262703}, {'Type': 'SAD', 'Confidence': 0.00719204917550087}, {'Type': 'CONFUSED', 'Confidence': 0.0}, {'Type': 'SURPRISED', 'Confidence': 0.12193001061677933}, {'Type': 'ANGRY', 'Confidence': 0.016614383086562157}], 'Landmarks': [{'Type': 'eyeLeft', 'X': 0.26194655895233154, 'Y': 0.37464967370033264}, {'Type': 'eyeRight', 'X': 0.3179576098918915, 'Y': 0.36693668365478516}, {'Type': 'mouthLeft', 'X': 0.27778851985931396, 'Y': 0.4516420066356659}, {'Type': 'mouthRight', 'X': 0.3243754804134369, 'Y': 0.44598883390426636}, {'Type': 'nose', 'X': 0.28745707869529724, 'Y': 0.4182933270931244}, {'Type': 'leftEyeBrowLeft', 'X': 0.24103596806526184, 'Y': 0.3581259548664093}, {'Type': 'leftEyeBrowRight', 'X': 0.2671634554862976, 'Y': 0.3524615466594696}, {'Type': 'leftEyeBrowUp', 'X': 0.25241535902023315, 'Y': 0.3496345281600952}, {'Type': 'rightEyeBrowLeft', 'X': 0.29992741346359253, 'Y': 0.3475310802459717}, {'Type': 'rightEyeBrowRight', 'X': 0.34044912457466125, 'Y': 0.3435753285884857}, {'Type': 'rightEyeBrowUp', 'X': 0.31769877672195435, 'Y': 0.3398503363132477}, {'Type': 'leftEyeLeft', 'X': 0.2538062632083893, 'Y': 0.3746364414691925}, {'Type': 'leftEyeRight', 'X': 0.2734270989894867, 'Y': 0.37351149320602417}, {'Type': 'leftEyeUp', 'X': 0.26139548420906067, 'Y': 0.3710293769836426}, {'Type': 'leftEyeDown', 'X': 0.26295745372772217, 'Y': 0.3778550922870636}, {'Type': 'rightEyeLeft', 'X': 0.3065910339355469, 'Y': 0.3685432970523834}, {'Type': 'rightEyeRight', 'X': 0.328178346157074, 'Y': 0.36359521746635437}, {'Type': 'rightEyeUp', 'X': 0.316536009311676, 'Y': 0.3628177046775818}, {'Type': 'rightEyeDown', 'X': 0.317354291677475, 'Y': 0.36982545256614685}, {'Type': 'noseLeft', 'X': 0.2829445004463196, 'Y': 0.4254896640777588}, {'Type': 'noseRight', 'X': 0.3038715124130249, 'Y': 0.4213092625141144}, {'Type': 'mouthUp', 'X': 0.2949312627315521, 'Y': 0.4423772394657135}, {'Type': 'mouthDown', 'X': 0.29922962188720703, 'Y': 0.464579313993454}, {'Type': 'leftPupil', 'X': 0.26194655895233154, 'Y': 0.37464967370033264}, {'Type': 'rightPupil', 'X': 0.3179576098918915, 'Y': 0.36693668365478516}, {'Type': 'upperJawlineLeft', 'X': 0.24280284345149994, 'Y': 0.3696357011795044}, {'Type': 'midJawlineLeft', 'X': 0.2634889483451843, 'Y': 0.45389968156814575}, {'Type': 'chinBottom', 'X': 0.30815389752388, 'Y': 0.5020555257797241}, {'Type': 'midJawlineRight', 'X': 0.3637682795524597, 'Y': 0.4386015236377716}, {'Type': 'upperJawlineRight', 'X': 0.3676835000514984, 'Y': 0.350617915391922}], 'Pose': {'Roll': -9.232973098754883, 'Yaw': -5.5512542724609375, 'Pitch': -1.2640018463134766}, 'Quality': {'Brightness': 80.17141723632812, 'Sharpness': 86.86019134521484}, 'Confidence': 100.0}\n"
     ]
    }
   ],
   "source": [
    "for entry in detect_faces(BUCKET, KEY):\n",
    "    print(entry)"
   ]
  },
  {
   "cell_type": "code",
   "execution_count": 12,
   "metadata": {
    "ExecuteTime": {
     "end_time": "2018-12-01T00:05:32.324632Z",
     "start_time": "2018-12-01T00:05:28.834854Z"
    }
   },
   "outputs": [
    {
     "name": "stdout",
     "output_type": "stream",
     "text": [
      "Face (99.99832153320312%)\n",
      "SAD : 45.09117126464844%\n",
      "SURPRISED : 45.02834701538086%\n",
      "DISGUSTED : 49.41746139526367%\n",
      "CALM : 46.769065856933594%\n",
      "HAPPY : 45.00196838378906%\n",
      "ANGRY : 48.544456481933594%\n",
      "CONFUSED : 0.0%\n",
      "Brightness : 57.518798828125\n",
      "Sharpness : 12.848764419555664\n",
      "AgeRange\n"
     ]
    },
    {
     "ename": "KeyError",
     "evalue": "'Value'",
     "output_type": "error",
     "traceback": [
      "\u001b[0;31m---------------------------------------------------------------------------\u001b[0m",
      "\u001b[0;31mKeyError\u001b[0m                                  Traceback (most recent call last)",
      "\u001b[0;32m<ipython-input-12-4a924ecd6947>\u001b[0m in \u001b[0;36m<module>\u001b[0;34m()\u001b[0m\n\u001b[1;32m     11\u001b[0m         \u001b[0;32mif\u001b[0m \u001b[0mfeature\u001b[0m \u001b[0;32mnot\u001b[0m \u001b[0;32min\u001b[0m \u001b[0mFEATURES_BLACKLIST\u001b[0m\u001b[0;34m:\u001b[0m\u001b[0;34m\u001b[0m\u001b[0m\n\u001b[1;32m     12\u001b[0m             \u001b[0mprint\u001b[0m\u001b[0;34m(\u001b[0m\u001b[0mfeature\u001b[0m\u001b[0;34m)\u001b[0m\u001b[0;34m\u001b[0m\u001b[0m\n\u001b[0;32m---> 13\u001b[0;31m             \u001b[0mprint\u001b[0m \u001b[0;34m(\u001b[0m\u001b[0;34m\"{feature}({data[Value]}) : {data[Confidence]}%\"\u001b[0m\u001b[0;34m.\u001b[0m\u001b[0mformat\u001b[0m\u001b[0;34m(\u001b[0m\u001b[0mfeature\u001b[0m\u001b[0;34m=\u001b[0m\u001b[0mfeature\u001b[0m\u001b[0;34m,\u001b[0m \u001b[0mdata\u001b[0m\u001b[0;34m=\u001b[0m\u001b[0mdata\u001b[0m\u001b[0;34m)\u001b[0m\u001b[0;34m)\u001b[0m\u001b[0;34m\u001b[0m\u001b[0m\n\u001b[0m",
      "\u001b[0;31mKeyError\u001b[0m: 'Value'"
     ]
    }
   ],
   "source": [
    "for face in detect_faces(BUCKET, KEY):\n",
    "    print(\"Face ({Confidence}%)\".format(**face))\n",
    "    # emotions\n",
    "    for emotion in face['Emotions']:\n",
    "        print(\"{Type} : {Confidence}%\".format(**emotion))\n",
    "    # quality\n",
    "    for quality, value in face['Quality'].items():\n",
    "        print(\"{quality} : {value}\".format(quality=quality, value=value))\n",
    "    # facial features\n",
    "    for feature, data in face.items():\n",
    "        if feature not in FEATURES_BLACKLIST:\n",
    "            print(feature)\n",
    "            print (\"{feature}({data[Value]}) : {data[Confidence]}%\".format(feature=feature, data=data))"
   ]
  },
  {
   "cell_type": "markdown",
   "metadata": {},
   "source": [
    "# Video"
   ]
  },
  {
   "cell_type": "code",
   "execution_count": 21,
   "metadata": {
    "ExecuteTime": {
     "end_time": "2018-12-01T01:41:03.246630Z",
     "start_time": "2018-12-01T01:41:03.124042Z"
    }
   },
   "outputs": [],
   "source": [
    "import boto3\n",
    "import json\n",
    "import sys"
   ]
  }
 ],
 "metadata": {
  "kernelspec": {
   "display_name": "Python 3",
   "language": "python",
   "name": "python3"
  },
  "language_info": {
   "codemirror_mode": {
    "name": "ipython",
    "version": 3
   },
   "file_extension": ".py",
   "mimetype": "text/x-python",
   "name": "python",
   "nbconvert_exporter": "python",
   "pygments_lexer": "ipython3",
   "version": "3.6.5"
  }
 },
 "nbformat": 4,
 "nbformat_minor": 2
}
